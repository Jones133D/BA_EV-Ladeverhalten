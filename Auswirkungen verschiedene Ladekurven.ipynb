{
 "cells": [
  {
   "cell_type": "markdown",
   "source": [
    "## Auswirkungen der unterschiedlichen Ladekurven/EVs auf den Lastverlauf\n",
    "\n",
    "Nachdem die Simulation ansich vollständig funktionert, soll die Auswirkung der unterschiedlichen EVs auf den Lastverlauf untersucht werden. Dafür wird nacheinander mit einem spezifischen Fahrzeugtyp simuliert, und dann die Lastverläufe der einzelenen Durchläufe miteinander verglichen"
   ],
   "metadata": {
    "collapsed": false
   },
   "id": "5dd012a3518febe9"
  },
  {
   "cell_type": "code",
   "execution_count": null,
   "id": "initial_id",
   "metadata": {
    "collapsed": true
   },
   "outputs": [],
   "source": []
  }
 ],
 "metadata": {
  "kernelspec": {
   "display_name": "Python 3",
   "language": "python",
   "name": "python3"
  },
  "language_info": {
   "codemirror_mode": {
    "name": "ipython",
    "version": 2
   },
   "file_extension": ".py",
   "mimetype": "text/x-python",
   "name": "python",
   "nbconvert_exporter": "python",
   "pygments_lexer": "ipython2",
   "version": "2.7.6"
  }
 },
 "nbformat": 4,
 "nbformat_minor": 5
}
