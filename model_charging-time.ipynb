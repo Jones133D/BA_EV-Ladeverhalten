{
 "cells": [
  {
   "cell_type": "markdown",
   "source": [
    "## unsued\n",
    "\n",
    "## Modell: Parkdauer mit verschiedenen Ansätzen\n",
    "\n",
    "In diesem Modell wird die Ladedauer mit unterschiedlichen Ansätzen bestimmt und die Auswirkungen verglichen\n",
    "Es wird die Simulation 'model_v2.py' genutzt\n",
    "\n"
   ],
   "metadata": {
    "collapsed": false
   }
  },
  {
   "cell_type": "code",
   "execution_count": 1,
   "outputs": [
    {
     "ename": "ValueError",
     "evalue": "Domain error in arguments.",
     "output_type": "error",
     "traceback": [
      "\u001B[1;31m---------------------------------------------------------------------------\u001B[0m",
      "\u001B[1;31mValueError\u001B[0m                                Traceback (most recent call last)",
      "Input \u001B[1;32mIn [1]\u001B[0m, in \u001B[0;36m<cell line: 13>\u001B[1;34m()\u001B[0m\n\u001B[0;32m     10\u001B[0m \u001B[38;5;28;01mwith\u001B[39;00m \u001B[38;5;28mopen\u001B[39m(\u001B[38;5;124m\"\u001B[39m\u001B[38;5;124msettings_model_charging-time.json\u001B[39m\u001B[38;5;124m\"\u001B[39m, \u001B[38;5;124m\"\u001B[39m\u001B[38;5;124mr\u001B[39m\u001B[38;5;124m\"\u001B[39m) \u001B[38;5;28;01mas\u001B[39;00m f:\n\u001B[0;32m     11\u001B[0m     settings \u001B[38;5;241m=\u001B[39m json\u001B[38;5;241m.\u001B[39mload(f)\n\u001B[1;32m---> 13\u001B[0m df_results_returned \u001B[38;5;241m=\u001B[39m \u001B[43mmodel_v2\u001B[49m\u001B[38;5;241;43m.\u001B[39;49m\u001B[43msimulation\u001B[49m\u001B[43m(\u001B[49m\u001B[38;5;124;43m\"\u001B[39;49m\u001B[38;5;124;43msettings_model_charging-time.json\u001B[39;49m\u001B[38;5;124;43m\"\u001B[39;49m\u001B[43m)\u001B[49m\n\u001B[0;32m     14\u001B[0m df_results_returned\u001B[38;5;241m.\u001B[39mdescribe()\n",
      "File \u001B[1;32mE:\\OneDrive - HAW-HH\\BA_git_pycharm_new\\model_v2.py:129\u001B[0m, in \u001B[0;36msimulation\u001B[1;34m(settings_selection)\u001B[0m\n\u001B[0;32m    126\u001B[0m car_model \u001B[38;5;241m=\u001B[39m random\u001B[38;5;241m.\u001B[39mchoice(settings[\u001B[38;5;124m\"\u001B[39m\u001B[38;5;124mlist_of_cars\u001B[39m\u001B[38;5;124m\"\u001B[39m]) \u001B[38;5;66;03m# TODO\u001B[39;00m\n\u001B[0;32m    127\u001B[0m \u001B[38;5;66;03m# car_model = model4  # zum test nur bestimmtes Model laden\u001B[39;00m\n\u001B[0;32m    128\u001B[0m \u001B[38;5;66;03m# total_parking_duration = random.randint(*settings[\"parking_duration\"])  # Parkdauer aus Settings\u001B[39;00m\n\u001B[1;32m--> 129\u001B[0m total_parking_duration \u001B[38;5;241m=\u001B[39m \u001B[43mstats\u001B[49m\u001B[38;5;241;43m.\u001B[39;49m\u001B[43mexponweib\u001B[49m\u001B[38;5;241;43m.\u001B[39;49m\u001B[43mrvs\u001B[49m\u001B[43m(\u001B[49m\u001B[43ma\u001B[49m\u001B[43m,\u001B[49m\u001B[43m \u001B[49m\u001B[43mc\u001B[49m\u001B[43m,\u001B[49m\u001B[43m \u001B[49m\u001B[43mloc\u001B[49m\u001B[38;5;241;43m=\u001B[39;49m\u001B[43mloc\u001B[49m\u001B[43m,\u001B[49m\u001B[43m \u001B[49m\u001B[43mscale\u001B[49m\u001B[38;5;241;43m=\u001B[39;49m\u001B[43mloc\u001B[49m\u001B[43m,\u001B[49m\u001B[43m \u001B[49m\u001B[43msize\u001B[49m\u001B[38;5;241;43m=\u001B[39;49m\u001B[38;5;241;43m1\u001B[39;49m\u001B[43m)\u001B[49m\n\u001B[0;32m    130\u001B[0m new_car \u001B[38;5;241m=\u001B[39m Car(car_model, total_parking_duration)\n\u001B[0;32m    131\u001B[0m parking\u001B[38;5;241m.\u001B[39madd_car(new_car)\n",
      "File \u001B[1;32m~\\anaconda3\\lib\\site-packages\\scipy\\stats\\_distn_infrastructure.py:1067\u001B[0m, in \u001B[0;36mrv_generic.rvs\u001B[1;34m(self, *args, **kwds)\u001B[0m\n\u001B[0;32m   1065\u001B[0m cond \u001B[38;5;241m=\u001B[39m logical_and(\u001B[38;5;28mself\u001B[39m\u001B[38;5;241m.\u001B[39m_argcheck(\u001B[38;5;241m*\u001B[39margs), (scale \u001B[38;5;241m>\u001B[39m\u001B[38;5;241m=\u001B[39m \u001B[38;5;241m0\u001B[39m))\n\u001B[0;32m   1066\u001B[0m \u001B[38;5;28;01mif\u001B[39;00m \u001B[38;5;129;01mnot\u001B[39;00m np\u001B[38;5;241m.\u001B[39mall(cond):\n\u001B[1;32m-> 1067\u001B[0m     \u001B[38;5;28;01mraise\u001B[39;00m \u001B[38;5;167;01mValueError\u001B[39;00m(\u001B[38;5;124m\"\u001B[39m\u001B[38;5;124mDomain error in arguments.\u001B[39m\u001B[38;5;124m\"\u001B[39m)\n\u001B[0;32m   1069\u001B[0m \u001B[38;5;28;01mif\u001B[39;00m np\u001B[38;5;241m.\u001B[39mall(scale \u001B[38;5;241m==\u001B[39m \u001B[38;5;241m0\u001B[39m):\n\u001B[0;32m   1070\u001B[0m     \u001B[38;5;28;01mreturn\u001B[39;00m loc\u001B[38;5;241m*\u001B[39mones(size, \u001B[38;5;124m'\u001B[39m\u001B[38;5;124md\u001B[39m\u001B[38;5;124m'\u001B[39m)\n",
      "\u001B[1;31mValueError\u001B[0m: Domain error in arguments."
     ]
    }
   ],
   "source": [
    "# %reset\n",
    "# import random\n",
    "import pandas as pd\n",
    "# import matplotlib.dates as mdates\n",
    "import json\n",
    "# import numpy as np\n",
    "# import matplotlib.pyplot as plt\n",
    "import model_v2\n",
    "\n",
    "with open(\"settings_model_charging-time.json\", \"r\") as f:\n",
    "    settings = json.load(f)\n",
    "  \n",
    "df_results_returned = model_v2.simulation(\"settings_model_charging-time.json\")\n",
    "df_results_returned.describe()"
   ],
   "metadata": {
    "collapsed": false,
    "ExecuteTime": {
     "end_time": "2023-10-17T23:51:22.455808600Z",
     "start_time": "2023-10-17T23:51:18.112810400Z"
    }
   }
  },
  {
   "cell_type": "markdown",
   "source": [
    "Nach der Simulation stehen die Ergebnisse in dem Dataframe 'df_results_returned' und können geplottet werden"
   ],
   "metadata": {
    "collapsed": false
   }
  },
  {
   "cell_type": "code",
   "execution_count": 2,
   "outputs": [
    {
     "ename": "NameError",
     "evalue": "name 'plt' is not defined",
     "output_type": "error",
     "traceback": [
      "\u001B[1;31m---------------------------------------------------------------------------\u001B[0m",
      "\u001B[1;31mNameError\u001B[0m                                 Traceback (most recent call last)",
      "Input \u001B[1;32mIn [2]\u001B[0m, in \u001B[0;36m<cell line: 2>\u001B[1;34m()\u001B[0m\n\u001B[0;32m      1\u001B[0m \u001B[38;5;66;03m# Create figure with secondary y-axis\u001B[39;00m\n\u001B[1;32m----> 2\u001B[0m fig, ax1 \u001B[38;5;241m=\u001B[39m \u001B[43mplt\u001B[49m\u001B[38;5;241m.\u001B[39msubplots()\n\u001B[0;32m      3\u001B[0m fig\u001B[38;5;241m.\u001B[39mset_size_inches(\u001B[38;5;241m18.5\u001B[39m, \u001B[38;5;241m10.5\u001B[39m)\n\u001B[0;32m      4\u001B[0m color \u001B[38;5;241m=\u001B[39m \u001B[38;5;124m'\u001B[39m\u001B[38;5;124mtab:blue\u001B[39m\u001B[38;5;124m'\u001B[39m\n",
      "\u001B[1;31mNameError\u001B[0m: name 'plt' is not defined"
     ]
    }
   ],
   "source": [
    "# Create figure with secondary y-axis\n",
    "fig, ax1 = plt.subplots()\n",
    "fig.set_size_inches(18.5, 10.5)\n",
    "color = 'tab:blue'\n",
    "ax1.set_xlabel('datetime')\n",
    "ax1.set_ylabel('power in kW', color=color)\n",
    "ax1.plot(np.asarray(df_results_returned.index), np.asarray(df_results_returned['power_per_minute']), c=color, alpha=0.6)\n",
    "ax1.tick_params(axis='y', labelcolor=color)\n",
    "\n",
    "ax2 = ax1.twinx()  # instantiate a second axes that shares the same x-axis\n",
    "\n",
    "color = 'tab:orange'\n",
    "ax2.set_ylabel('number of cars', color=color)  # we already handled the x-label with ax1\n",
    "ax2.plot(np.asarray(df_results_returned.index), np.asarray(df_results_returned['number_cars_charging']), c=color, alpha=0.6)\n",
    "ax2.tick_params(axis='y', labelcolor=color)\n",
    "# ax2.set_ylim(0, settings[\"number_of_stations\"])\n",
    "\n",
    "ax = plt.gca()\n",
    "ax.xaxis.set_major_locator(mdates.HourLocator(interval=1))\n",
    "ax.xaxis.set_major_formatter(mdates.DateFormatter('%H:%M'))\n",
    "\n",
    "plt.xticks(rotation=45)\n",
    "\n",
    "# fig.autofmt_xdate()\n",
    "# date_form = mdates.DateFormatter(\"%H:%M\")\n",
    "# ax1.xaxis.set_major_formatter(date_form)\n",
    "\n",
    "# df_results.plot()\n",
    "fig.tight_layout()  # otherwise the right y-label is slightly clipped\n",
    "plt.show()"
   ],
   "metadata": {
    "collapsed": false,
    "ExecuteTime": {
     "end_time": "2023-10-05T11:29:28.187759500Z",
     "start_time": "2023-10-05T11:29:27.237217Z"
    }
   }
  },
  {
   "cell_type": "code",
   "execution_count": 5,
   "outputs": [],
   "source": [],
   "metadata": {
    "collapsed": false,
    "ExecuteTime": {
     "end_time": "2023-09-22T08:49:33.423334400Z",
     "start_time": "2023-09-22T08:49:33.408335100Z"
    }
   }
  }
 ],
 "metadata": {
  "kernelspec": {
   "display_name": "Python 3",
   "language": "python",
   "name": "python3"
  },
  "language_info": {
   "codemirror_mode": {
    "name": "ipython",
    "version": 2
   },
   "file_extension": ".py",
   "mimetype": "text/x-python",
   "name": "python",
   "nbconvert_exporter": "python",
   "pygments_lexer": "ipython2",
   "version": "2.7.6"
  }
 },
 "nbformat": 4,
 "nbformat_minor": 0
}
